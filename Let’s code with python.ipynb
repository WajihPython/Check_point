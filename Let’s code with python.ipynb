{
 "cells": [
  {
   "cell_type": "code",
   "execution_count": 2,
   "id": "706441fe",
   "metadata": {},
   "outputs": [
    {
     "name": "stdout",
     "output_type": "stream",
     "text": [
      "-10\n",
      "-9\n",
      "-8\n",
      "-7\n",
      "-6\n",
      "-5\n",
      "-4\n",
      "-3\n",
      "-2\n",
      "-1\n"
     ]
    }
   ],
   "source": [
    "for i in range (-10,0):\n",
    "    print(i)"
   ]
  },
  {
   "cell_type": "code",
   "execution_count": 3,
   "id": "05a7aeee",
   "metadata": {},
   "outputs": [
    {
     "name": "stdout",
     "output_type": "stream",
     "text": [
      "8769876\n",
      "7\n"
     ]
    }
   ],
   "source": [
    "num=input()\n",
    "print(len(num))"
   ]
  },
  {
   "cell_type": "code",
   "execution_count": 10,
   "id": "b855ee05",
   "metadata": {},
   "outputs": [
    {
     "name": "stdout",
     "output_type": "stream",
     "text": [
      "2\n"
     ]
    },
    {
     "data": {
      "text/plain": [
       "8"
      ]
     },
     "execution_count": 10,
     "metadata": {},
     "output_type": "execute_result"
    }
   ],
   "source": [
    "def cube(n):\n",
    "    n=n*n*n\n",
    "    return (n)\n",
    "n=int(input())\n",
    "cube(n)\n"
   ]
  },
  {
   "cell_type": "code",
   "execution_count": 6,
   "id": "e304b596",
   "metadata": {},
   "outputs": [
    {
     "name": "stdout",
     "output_type": "stream",
     "text": [
      "2\n",
      "3\n",
      "6\n"
     ]
    }
   ],
   "source": [
    "a=int(input())\n",
    "b=int(input())\n",
    "if (a*b)>1000:\n",
    "    print (a+b)\n",
    "else :\n",
    "    print (a*b)"
   ]
  },
  {
   "cell_type": "code",
   "execution_count": 3,
   "id": "ca8d22f0",
   "metadata": {},
   "outputs": [
    {
     "data": {
      "text/plain": [
       "'true'"
      ]
     },
     "execution_count": 3,
     "metadata": {},
     "output_type": "execute_result"
    }
   ],
   "source": [
    "def comparefirstlast(list1,list2):\n",
    "    if list1[0]==list2[-1]:\n",
    "        return(\"true\")  \n",
    "comparefirstlast([10, 20, 23, 11, 17],[13, 43, 24, 36, 10])"
   ]
  },
  {
   "cell_type": "code",
   "execution_count": 13,
   "id": "f1619d8a",
   "metadata": {},
   "outputs": [
    {
     "name": "stdout",
     "output_type": "stream",
     "text": [
      "{8: 5, 6: 1, 10: 2, 20: 1}\n"
     ]
    }
   ],
   "source": [
    "def countX(lst, x):\n",
    "    count = 0\n",
    "    for i in range(len(lst)):\n",
    "        if (lst[i] == x):\n",
    "            count = count + 1\n",
    "    return count\n",
    " \n",
    "lst = [8, 6, 8, 10, 8, 20, 10, 8, 8]\n",
    "#x = 8\n",
    "#countX(lst, x)\n",
    "dict = {}\n",
    "for i in range(len(lst)):\n",
    "    dict[lst[i]] = countX(lst, lst[i])\n",
    "print (dict)"
   ]
  },
  {
   "cell_type": "code",
   "execution_count": null,
   "id": "c1ad1c3d",
   "metadata": {},
   "outputs": [],
   "source": []
  }
 ],
 "metadata": {
  "kernelspec": {
   "display_name": "Python 3 (ipykernel)",
   "language": "python",
   "name": "python3"
  },
  "language_info": {
   "codemirror_mode": {
    "name": "ipython",
    "version": 3
   },
   "file_extension": ".py",
   "mimetype": "text/x-python",
   "name": "python",
   "nbconvert_exporter": "python",
   "pygments_lexer": "ipython3",
   "version": "3.9.12"
  }
 },
 "nbformat": 4,
 "nbformat_minor": 5
}
