{
 "cells": [
  {
   "cell_type": "code",
   "execution_count": 23,
   "id": "1db1e53a",
   "metadata": {},
   "outputs": [
    {
     "name": "stdout",
     "output_type": "stream",
     "text": [
      "12\n"
     ]
    }
   ],
   "source": [
    "result=1\n",
    "list=[2,3,6]\n",
    "\n",
    "for i in (0,len(list)-1):\n",
    "    result*=list[i]\n",
    "print(result)"
   ]
  },
  {
   "cell_type": "code",
   "execution_count": 32,
   "id": "0e276a88",
   "metadata": {},
   "outputs": [
    {
     "ename": "KeyError",
     "evalue": "'c'",
     "output_type": "error",
     "traceback": [
      "\u001b[1;31m---------------------------------------------------------------------------\u001b[0m",
      "\u001b[1;31mKeyError\u001b[0m                                  Traceback (most recent call last)",
      "Input \u001b[1;32mIn [32]\u001b[0m, in \u001b[0;36m<cell line: 5>\u001b[1;34m()\u001b[0m\n\u001b[0;32m      3\u001b[0m d3\u001b[38;5;241m=\u001b[39m {}\n\u001b[0;32m      5\u001b[0m \u001b[38;5;28;01mfor\u001b[39;00m key \u001b[38;5;129;01min\u001b[39;00m d1\u001b[38;5;241m.\u001b[39mkeys():\n\u001b[1;32m----> 6\u001b[0m     \u001b[38;5;28;01mif\u001b[39;00m d1[key]\u001b[38;5;241m==\u001b[39m\u001b[43md2\u001b[49m\u001b[43m[\u001b[49m\u001b[43mkey\u001b[49m\u001b[43m]\u001b[49m:\n\u001b[0;32m      7\u001b[0m         d3[key]\u001b[38;5;241m=\u001b[39md1\u001b[38;5;241m.\u001b[39mget(key)\u001b[38;5;241m+\u001b[39md2\u001b[38;5;241m.\u001b[39mget(key)\n\u001b[0;32m      9\u001b[0m \u001b[38;5;28mprint\u001b[39m(d3)\n",
      "\u001b[1;31mKeyError\u001b[0m: 'c'"
     ]
    }
   ],
   "source": [
    "d1 = {'a': 100, 'b': 200, 'c':300}\n",
    "d2 = {'a': 300, 'b': 200, 'd':400}\n",
    "d3= {}\n",
    "\n",
    "for key in d1.keys():\n",
    "    if d1[key]==d2[key]:\n",
    "        d3[key]=d1.get(key)+d2.get(key)\n",
    "        \n",
    "    else d3.update(d1.item())\n",
    "    d3.update({d2.key(),d2.value()})\n",
    "print(d3)    "
   ]
  },
  {
   "cell_type": "code",
   "execution_count": null,
   "id": "3d879e7c",
   "metadata": {},
   "outputs": [],
   "source": []
  }
 ],
 "metadata": {
  "kernelspec": {
   "display_name": "Python 3 (ipykernel)",
   "language": "python",
   "name": "python3"
  },
  "language_info": {
   "codemirror_mode": {
    "name": "ipython",
    "version": 3
   },
   "file_extension": ".py",
   "mimetype": "text/x-python",
   "name": "python",
   "nbconvert_exporter": "python",
   "pygments_lexer": "ipython3",
   "version": "3.9.12"
  }
 },
 "nbformat": 4,
 "nbformat_minor": 5
}
