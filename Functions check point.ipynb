{
 "cells": [
  {
   "cell_type": "code",
   "execution_count": 1,
   "id": "f4f6872a",
   "metadata": {},
   "outputs": [
    {
     "data": {
      "text/plain": [
       "6"
      ]
     },
     "execution_count": 1,
     "metadata": {},
     "output_type": "execute_result"
    }
   ],
   "source": [
    "def max(a,b,c):\n",
    " if a>b and a>c:\n",
    "    return a\n",
    " elif b>a and b>c:\n",
    "    return b\n",
    " elif c>a and c>b:\n",
    "    return c\n",
    " else:\n",
    "    print(\"3 valeurs égaux\")\n",
    "    \n",
    "max(4,5,6)"
   ]
  },
  {
   "cell_type": "code",
   "execution_count": 10,
   "id": "0543c75e",
   "metadata": {},
   "outputs": [
    {
     "data": {
      "text/plain": [
       "(8, 2)"
      ]
     },
     "execution_count": 10,
     "metadata": {},
     "output_type": "execute_result"
    }
   ],
   "source": [
    "def calculation(a,b):\n",
    "    sum=a+b\n",
    "    sub=a-b\n",
    "    return (sum,sub)\n",
    "calculation(5,3)"
   ]
  },
  {
   "cell_type": "code",
   "execution_count": 2,
   "id": "5a6497be",
   "metadata": {},
   "outputs": [
    {
     "ename": "TypeError",
     "evalue": "'NoneType' object is not iterable",
     "output_type": "error",
     "traceback": [
      "\u001b[1;31m---------------------------------------------------------------------------\u001b[0m",
      "\u001b[1;31mTypeError\u001b[0m                                 Traceback (most recent call last)",
      "Input \u001b[1;32mIn [2]\u001b[0m, in \u001b[0;36m<cell line: 25>\u001b[1;34m()\u001b[0m\n\u001b[0;32m     22\u001b[0m \u001b[38;5;28;01mfor\u001b[39;00m i \u001b[38;5;129;01min\u001b[39;00m (\u001b[38;5;241m1\u001b[39m,list1,\u001b[38;5;241m2\u001b[39m):\n\u001b[0;32m     23\u001b[0m     list3\u001b[38;5;241m=\u001b[39mlist1\u001b[38;5;241m.\u001b[39mappend(i)\n\u001b[1;32m---> 25\u001b[0m \u001b[43msum_list\u001b[49m\u001b[43m(\u001b[49m\u001b[43mlist2\u001b[49m\u001b[43m)\u001b[49m\n\u001b[0;32m     26\u001b[0m multiply_list(list3)\n",
      "Input \u001b[1;32mIn [2]\u001b[0m, in \u001b[0;36msum_list\u001b[1;34m(list)\u001b[0m\n\u001b[0;32m      1\u001b[0m \u001b[38;5;28;01mdef\u001b[39;00m \u001b[38;5;21msum_list\u001b[39m(\u001b[38;5;28mlist\u001b[39m):\n\u001b[0;32m      2\u001b[0m     \u001b[38;5;28msum\u001b[39m\u001b[38;5;241m=\u001b[39m\u001b[38;5;241m0\u001b[39m\n\u001b[1;32m----> 3\u001b[0m     \u001b[38;5;28;01mfor\u001b[39;00m i \u001b[38;5;129;01min\u001b[39;00m \u001b[38;5;28mlist\u001b[39m:\n\u001b[0;32m      4\u001b[0m         \u001b[38;5;28msum\u001b[39m\u001b[38;5;241m+\u001b[39m\u001b[38;5;241m=\u001b[39mi\n\u001b[0;32m      5\u001b[0m     \u001b[38;5;28;01mreturn\u001b[39;00m \u001b[38;5;28msum\u001b[39m\n",
      "\u001b[1;31mTypeError\u001b[0m: 'NoneType' object is not iterable"
     ]
    }
   ],
   "source": [
    "def sum_list(list):\n",
    "    sum=0\n",
    "    for i in list:\n",
    "        sum+=i\n",
    "    return sum\n",
    "\n",
    "def multiply_list(list):\n",
    "    product = 1\n",
    "    for i in list:\n",
    "        product *= i\n",
    "    return product\n",
    "\n",
    "sum_list([5,8,10])   \n",
    "multiply_list([5,8,10])  \n",
    "\n",
    "list1 = [4,8,9,7,6]\n",
    "list2=[]\n",
    "list3=[]\n",
    "\n",
    "for i in (list1,2):\n",
    "    list2=list1.append(i)\n",
    "for i in (1,list1,2):\n",
    "    list3=list1.append(i)\n",
    "    \n",
    "sum_list(list2)\n",
    "\n",
    "def extract(ch):\n",
    "    while i < range(len(ch)-1) and ch[i] == \"-\" :\n",
    "        chextraite=ch[:i]\n",
    "        ch=ch[i+1:len(ch)]\n",
    "multiply_list(list3)"
   ]
  },
  {
   "cell_type": "code",
   "execution_count": 28,
   "id": "6ed28d10",
   "metadata": {},
   "outputs": [
    {
     "ename": "SyntaxError",
     "evalue": "invalid syntax (3325467054.py, line 7)",
     "output_type": "error",
     "traceback": [
      "\u001b[1;36m  Input \u001b[1;32mIn [28]\u001b[1;36m\u001b[0m\n\u001b[1;33m    list=[]extract\u001b[0m\n\u001b[1;37m           ^\u001b[0m\n\u001b[1;31mSyntaxError\u001b[0m\u001b[1;31m:\u001b[0m invalid syntax\n"
     ]
    }
   ],
   "source": [
    "def extract(ch):\n",
    "    while i < range(len(ch)-1) and ch[i] != \"-\" :\n",
    "        chextraite=ch[:i]\n",
    "    ch=ch[i+1:len(ch)]\n",
    "    return (chextraite)\n",
    "\n",
    "ch=input()\n",
    "for i in range(len(ch)):\n",
    "    ch.extract=[]\n",
    "list.append(chextraite)\n",
    "list.append('-')"
   ]
  }
 ],
 "metadata": {
  "kernelspec": {
   "display_name": "Python 3 (ipykernel)",
   "language": "python",
   "name": "python3"
  },
  "language_info": {
   "codemirror_mode": {
    "name": "ipython",
    "version": 3
   },
   "file_extension": ".py",
   "mimetype": "text/x-python",
   "name": "python",
   "nbconvert_exporter": "python",
   "pygments_lexer": "ipython3",
   "version": "3.9.12"
  }
 },
 "nbformat": 4,
 "nbformat_minor": 5
}
